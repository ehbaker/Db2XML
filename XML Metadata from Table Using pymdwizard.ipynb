{
 "cells": [
  {
   "cell_type": "markdown",
   "metadata": {
    "collapsed": false
   },
   "source": [
    "# Create XML Metadata from Table of Metadata\n",
    "* Table of metadata is created at same time as tabular (i.e. csv or xlsx) data. \n",
    "* Metadata is useful to both scientists during life of project, as well as for future users and data release :+1:\n"
   ]
  },
  {
   "cell_type": "code",
   "execution_count": 1,
   "metadata": {
    "collapsed": false
   },
   "outputs": [],
   "source": [
    "'''\n",
    "  import external libraries\n",
    "'''\n",
    "import glob\n",
    "import pandas as pd\n",
    "from lxml import etree\n",
    "import os\n",
    "import datetime\n",
    "\n",
    "'''\n",
    " import pymdwizard libraries\n",
    "'''\n",
    "import sys\n",
    "path_to_pymdwizard=r\"C:/Users/ehbaker/Documents/Python/scriptsFromOthers/fort-pymdwizard\" #path to your pymdwizard local copy\n",
    "sys.path.append(path_to_pymdwizard)\n",
    "from pymdwizard.core.xml_utils import XMLRecord, XMLNode"
   ]
  },
  {
   "cell_type": "code",
   "execution_count": 2,
   "metadata": {
    "collapsed": false
   },
   "outputs": [],
   "source": [
    "#Import Metadata Table\n",
    "#substitute path for new table\n",
    "met_tab_pth=r\"Q:\\Project Data\\GlacierData\\DataManagement\\CompletedMetTables\\MetadataTable_GlacierNameYYYY.MM.DD PitCore_SiteLabel.xlsx\" #path to metadata table\n",
    "met_tab=pd.read_excel(met_tab_pth, sheetname='table_level')\n",
    "row=met_tab.iloc[0,:] #isolate the first row"
   ]
  },
  {
   "cell_type": "markdown",
   "metadata": {},
   "source": [
    "### Table-Level Metadata (relevant to all data in table)\n",
    "* this data is created by the scientist, at the same time they are collating their data \n",
    "* first sheet in excel metadata workbook\n",
    "* each line is for a separate table in the relevant data"
   ]
  },
  {
   "cell_type": "code",
   "execution_count": 3,
   "metadata": {
    "collapsed": false
   },
   "outputs": [
    {
     "data": {
      "text/html": [
       "<div>\n",
       "<table border=\"1\" class=\"dataframe\">\n",
       "  <thead>\n",
       "    <tr style=\"text-align: right;\">\n",
       "      <th></th>\n",
       "      <th>table</th>\n",
       "      <th>description</th>\n",
       "      <th>methods</th>\n",
       "      <th>methods_citation</th>\n",
       "      <th>publication_citation</th>\n",
       "      <th>authors</th>\n",
       "      <th>associated_tables</th>\n",
       "      <th>supplemental_info</th>\n",
       "    </tr>\n",
       "  </thead>\n",
       "  <tbody>\n",
       "    <tr>\n",
       "      <th>0</th>\n",
       "      <td>GlacierNameYYYY.MM.DD PitCore_SiteLabel.csv</td>\n",
       "      <td>Raw snow pit and snow core measurements of sam...</td>\n",
       "      <td>Samples are taken using a variety of samplers,...</td>\n",
       "      <td>Ostream, G., and M. Brugman (1991), Glacier Ma...</td>\n",
       "      <td>NaN</td>\n",
       "      <td>Emily H. Baker, Christopher J. McNeil, Louis C...</td>\n",
       "      <td>NaN</td>\n",
       "      <td>NaN</td>\n",
       "    </tr>\n",
       "  </tbody>\n",
       "</table>\n",
       "</div>"
      ],
      "text/plain": [
       "                                         table  \\\n",
       "0  GlacierNameYYYY.MM.DD PitCore_SiteLabel.csv   \n",
       "\n",
       "                                         description  \\\n",
       "0  Raw snow pit and snow core measurements of sam...   \n",
       "\n",
       "                                             methods  \\\n",
       "0  Samples are taken using a variety of samplers,...   \n",
       "\n",
       "                                    methods_citation  publication_citation  \\\n",
       "0  Ostream, G., and M. Brugman (1991), Glacier Ma...                   NaN   \n",
       "\n",
       "                                             authors  associated_tables  \\\n",
       "0  Emily H. Baker, Christopher J. McNeil, Louis C...                NaN   \n",
       "\n",
       "   supplemental_info  \n",
       "0                NaN  "
      ]
     },
     "execution_count": 3,
     "metadata": {},
     "output_type": "execute_result"
    }
   ],
   "source": [
    "met_tab"
   ]
  },
  {
   "cell_type": "markdown",
   "metadata": {
    "collapsed": false
   },
   "source": [
    "### Add External XML Files \n",
    "* first (xmlpth) is the full FGDC template, with all fields consistent to your group's data releases pre-filed\n",
    "* second (attr_numeric_path) is a path to an XML document for a blank 'numeric attribute\" part of the FGDC section"
   ]
  },
  {
   "cell_type": "code",
   "execution_count": 4,
   "metadata": {
    "collapsed": false
   },
   "outputs": [],
   "source": [
    "#Import XML Structure\n",
    "#paths\n",
    "xmlpth=r\"C:\\Users\\ehbaker\\Documents\\XML_Work\\FGDC_template_Full.xml\"\n",
    "attr_numeric_pth=r\"C:\\Users\\ehbaker\\Documents\\XML_Work\\attr_numeric.xml\"\n",
    "attr_factor_path=r\"C:\\Users\\ehbaker\\Documents\\XML_Work\\attr_factor.xml\"\n",
    "category_details_path=r\"C:\\Users\\ehbaker\\Documents\\XML_Work\\category.xml\""
   ]
  },
  {
   "cell_type": "code",
   "execution_count": 5,
   "metadata": {
    "collapsed": false
   },
   "outputs": [],
   "source": [
    "#Create XMLRecords and XMLNodes from flat files\n",
    "metd=XMLRecord(xmlpth)"
   ]
  },
  {
   "cell_type": "markdown",
   "metadata": {
    "collapsed": true
   },
   "source": [
    "# Add Table-Level Metadata\n",
    "* More complex datasets (with multiple tables) could loop through all rows in the table, with \"for row in table: ...\""
   ]
  },
  {
   "cell_type": "code",
   "execution_count": 6,
   "metadata": {
    "collapsed": true
   },
   "outputs": [],
   "source": [
    "#Add Data Description\n",
    "metd.metadata.idinfo.descript.abstract.text=row['description'] "
   ]
  },
  {
   "cell_type": "markdown",
   "metadata": {},
   "source": [
    "##### We can see this has added the text from the \"description\" column to our FGDC metadata:"
   ]
  },
  {
   "cell_type": "code",
   "execution_count": 7,
   "metadata": {
    "collapsed": false
   },
   "outputs": [
    {
     "data": {
      "text/plain": [
       "<descript>\n",
       "  <abstract>Raw snow pit and snow core measurements of sample weight and volume, at specified depth from the surface</abstract>\n",
       "  <purpose>\n",
       "\n",
       "  </purpose>\n",
       "</descript>"
      ]
     },
     "execution_count": 7,
     "metadata": {},
     "output_type": "execute_result"
    }
   ],
   "source": [
    "metd.metadata.idinfo.descript"
   ]
  },
  {
   "cell_type": "markdown",
   "metadata": {},
   "source": [
    "#### Add methods, citation, and publication citation"
   ]
  },
  {
   "cell_type": "code",
   "execution_count": 8,
   "metadata": {
    "collapsed": false
   },
   "outputs": [],
   "source": [
    "#Add methods (table-level description)\n",
    "metd.metadata.dataqual.lineage.procstep.procdesc.text=row['methods']\n",
    "\n",
    "#Add citation for methods used (at table-level)\n",
    "metd.metadata.dataqual.lineage.procstep.srcused.text=row['methods_citation']\n",
    "#Add citation for publication that resulted from this data\n",
    "metd.metadata.dataqual.lineage.procstep.srcprod.text=row['publication_citation']"
   ]
  },
  {
   "cell_type": "markdown",
   "metadata": {},
   "source": [
    "#### Add authors:\n",
    "* data entry is in single cell, but each author must be a separate node"
   ]
  },
  {
   "cell_type": "code",
   "execution_count": 9,
   "metadata": {
    "collapsed": false
   },
   "outputs": [],
   "source": [
    "#Add authors\n",
    "auth_node=XMLNode(\"<origin></origin>\")\n",
    "authors= row.authors.split(',')#list of authors; input in single cell separated by commas\n",
    "#Set existing first author node to first author (already in base XML, required field)\n",
    "metd.metadata.idinfo.citation.citeinfo.origin.text=authors[0]\n",
    "#Add nodes for remainder of authors in list\n",
    "for author in authors[1:]:\n",
    "    auth_node.text=author\n",
    "    metd.metadata.idinfo.citation.citeinfo.add_child(auth_node)"
   ]
  },
  {
   "cell_type": "markdown",
   "metadata": {
    "collapsed": false
   },
   "source": [
    "### Examine resulting metadata"
   ]
  },
  {
   "cell_type": "code",
   "execution_count": 10,
   "metadata": {
    "collapsed": false
   },
   "outputs": [
    {
     "data": {
      "text/plain": [
       "'Samples are taken using a variety of samplers, as listed in the table. Sample weight and depth below surface are noted. Weight is measured using a sping scale, and small stuff sack for sample. Sample depth is taken with a tape measurer in pits, or measured along core, and in core hole.'"
      ]
     },
     "execution_count": 10,
     "metadata": {},
     "output_type": "execute_result"
    }
   ],
   "source": [
    "metd.metadata.dataqual.lineage.procstep.procdesc.text #for example"
   ]
  },
  {
   "cell_type": "code",
   "execution_count": 11,
   "metadata": {
    "collapsed": false
   },
   "outputs": [],
   "source": [
    "#Save name of table\n",
    "table_name=row.table"
   ]
  },
  {
   "cell_type": "markdown",
   "metadata": {},
   "source": [
    "# Add Metadata for Numeric Columns"
   ]
  },
  {
   "cell_type": "code",
   "execution_count": 12,
   "metadata": {
    "collapsed": true
   },
   "outputs": [],
   "source": [
    "#read in metadata tab in excel workbook for numeric columns\n",
    "met_tab=pd.read_excel(met_tab_pth, sheetname='columns_numeric')"
   ]
  },
  {
   "cell_type": "code",
   "execution_count": 13,
   "metadata": {
    "collapsed": false
   },
   "outputs": [
    {
     "data": {
      "text/html": [
       "<div>\n",
       "<table border=\"1\" class=\"dataframe\">\n",
       "  <thead>\n",
       "    <tr style=\"text-align: right;\">\n",
       "      <th></th>\n",
       "      <th>column</th>\n",
       "      <th>units</th>\n",
       "      <th>description</th>\n",
       "      <th>blank_description</th>\n",
       "      <th>uncertainty</th>\n",
       "    </tr>\n",
       "  </thead>\n",
       "  <tbody>\n",
       "    <tr>\n",
       "      <th>0</th>\n",
       "      <td>sample_weight</td>\n",
       "      <td>grams</td>\n",
       "      <td>Weight of snow sample</td>\n",
       "      <td>Sample lost or not measurable; very rare.</td>\n",
       "      <td>5.0</td>\n",
       "    </tr>\n",
       "    <tr>\n",
       "      <th>1</th>\n",
       "      <td>sample_bottom_depth</td>\n",
       "      <td>centimeters</td>\n",
       "      <td>Bottom depth of snow sample</td>\n",
       "      <td>NaN</td>\n",
       "      <td>1.0</td>\n",
       "    </tr>\n",
       "    <tr>\n",
       "      <th>2</th>\n",
       "      <td>avg_core_length</td>\n",
       "      <td>centimeters</td>\n",
       "      <td>Average of 3 measurements, on 3 sides of core</td>\n",
       "      <td>If pit measurement, no value</td>\n",
       "      <td>0.5</td>\n",
       "    </tr>\n",
       "    <tr>\n",
       "      <th>3</th>\n",
       "      <td>avg_core_diam</td>\n",
       "      <td>centimeters</td>\n",
       "      <td>Average of 4 measurements, on 4 opposing sides...</td>\n",
       "      <td>If pit measurement, no value</td>\n",
       "      <td>0.2</td>\n",
       "    </tr>\n",
       "    <tr>\n",
       "      <th>4</th>\n",
       "      <td>volume</td>\n",
       "      <td>cubic centimeters</td>\n",
       "      <td>Sample volume, from either sampler, or calcula...</td>\n",
       "      <td>NaN</td>\n",
       "      <td>5.0</td>\n",
       "    </tr>\n",
       "  </tbody>\n",
       "</table>\n",
       "</div>"
      ],
      "text/plain": [
       "                column              units  \\\n",
       "0        sample_weight              grams   \n",
       "1  sample_bottom_depth        centimeters   \n",
       "2      avg_core_length        centimeters   \n",
       "3        avg_core_diam        centimeters   \n",
       "4               volume  cubic centimeters   \n",
       "\n",
       "                                         description  \\\n",
       "0                              Weight of snow sample   \n",
       "1                        Bottom depth of snow sample   \n",
       "2      Average of 3 measurements, on 3 sides of core   \n",
       "3  Average of 4 measurements, on 4 opposing sides...   \n",
       "4  Sample volume, from either sampler, or calcula...   \n",
       "\n",
       "                           blank_description  uncertainty  \n",
       "0  Sample lost or not measurable; very rare.          5.0  \n",
       "1                                        NaN          1.0  \n",
       "2               If pit measurement, no value          0.5  \n",
       "3               If pit measurement, no value          0.2  \n",
       "4                                        NaN          5.0  "
      ]
     },
     "execution_count": 13,
     "metadata": {},
     "output_type": "execute_result"
    }
   ],
   "source": [
    "met_tab"
   ]
  },
  {
   "cell_type": "markdown",
   "metadata": {},
   "source": [
    "### Add table-level entity information:"
   ]
  },
  {
   "cell_type": "code",
   "execution_count": 14,
   "metadata": {
    "collapsed": false
   },
   "outputs": [],
   "source": [
    "#Input data in example is for a single table only\n",
    "metd.metadata.eainfo.detailed.enttyp.enttypl.text=table_name\n",
    "metd.metadata.eainfo.detailed.enttyp.enttypd.text='table' #in this system, all inputs are tables\n",
    "metd.metadata.eainfo.detailed.enttyp.enttypds.text='Producer defined' #only change if proprietary format; not the case here"
   ]
  },
  {
   "cell_type": "code",
   "execution_count": 15,
   "metadata": {
    "collapsed": false
   },
   "outputs": [
    {
     "data": {
      "text/plain": [
       "<enttyp>\n",
       "  <enttypl>GlacierNameYYYY.MM.DD PitCore_SiteLabel.csv</enttypl>\n",
       "  <enttypd>table</enttypd>\n",
       "  <enttypds>Producer defined</enttypds>\n",
       "</enttyp>"
      ]
     },
     "execution_count": 15,
     "metadata": {},
     "output_type": "execute_result"
    }
   ],
   "source": [
    "metd.metadata.eainfo.detailed.enttyp"
   ]
  },
  {
   "cell_type": "markdown",
   "metadata": {},
   "source": [
    "### Add column-level attribute information"
   ]
  },
  {
   "cell_type": "code",
   "execution_count": 16,
   "metadata": {
    "collapsed": true
   },
   "outputs": [],
   "source": [
    "#Read in a blank node section for numeric attributes\n",
    "attr_n=XMLNode(open(attr_numeric_pth, 'r').read()) #Must read in text file as string to convert to node"
   ]
  },
  {
   "cell_type": "code",
   "execution_count": 17,
   "metadata": {
    "collapsed": false
   },
   "outputs": [
    {
     "data": {
      "text/plain": [
       "<attr>\n",
       "  <attrlabl>\n",
       "\n",
       "  </attrlabl>\n",
       "  <attrdef>\n",
       "\n",
       "  </attrdef>\n",
       "  <attrdefs>\n",
       "\n",
       "  </attrdefs>\n",
       "  <attrdomv>\n",
       "    <rdom>\n",
       "      <rdommin>\n",
       "\n",
       "      </rdommin>\n",
       "      <rdommax>\n",
       "\n",
       "      </rdommax>\n",
       "      <attrunit>\n",
       "\n",
       "      </attrunit>\n",
       "      <attrmres>\n",
       "\n",
       "      </attrmres>\n",
       "    </rdom>\n",
       "  </attrdomv>\n",
       "</attr>"
      ]
     },
     "execution_count": 17,
     "metadata": {},
     "output_type": "execute_result"
    }
   ],
   "source": [
    "attr_n"
   ]
  },
  {
   "cell_type": "markdown",
   "metadata": {},
   "source": [
    "#### Add information for each numeric data type (each row below)"
   ]
  },
  {
   "cell_type": "code",
   "execution_count": 18,
   "metadata": {
    "collapsed": false
   },
   "outputs": [
    {
     "data": {
      "text/html": [
       "<div>\n",
       "<table border=\"1\" class=\"dataframe\">\n",
       "  <thead>\n",
       "    <tr style=\"text-align: right;\">\n",
       "      <th></th>\n",
       "      <th>column</th>\n",
       "      <th>units</th>\n",
       "      <th>description</th>\n",
       "      <th>blank_description</th>\n",
       "      <th>uncertainty</th>\n",
       "    </tr>\n",
       "  </thead>\n",
       "  <tbody>\n",
       "    <tr>\n",
       "      <th>0</th>\n",
       "      <td>sample_weight</td>\n",
       "      <td>grams</td>\n",
       "      <td>Weight of snow sample</td>\n",
       "      <td>Sample lost or not measurable; very rare.</td>\n",
       "      <td>5.0</td>\n",
       "    </tr>\n",
       "    <tr>\n",
       "      <th>1</th>\n",
       "      <td>sample_bottom_depth</td>\n",
       "      <td>centimeters</td>\n",
       "      <td>Bottom depth of snow sample</td>\n",
       "      <td>NaN</td>\n",
       "      <td>1.0</td>\n",
       "    </tr>\n",
       "    <tr>\n",
       "      <th>2</th>\n",
       "      <td>avg_core_length</td>\n",
       "      <td>centimeters</td>\n",
       "      <td>Average of 3 measurements, on 3 sides of core</td>\n",
       "      <td>If pit measurement, no value</td>\n",
       "      <td>0.5</td>\n",
       "    </tr>\n",
       "    <tr>\n",
       "      <th>3</th>\n",
       "      <td>avg_core_diam</td>\n",
       "      <td>centimeters</td>\n",
       "      <td>Average of 4 measurements, on 4 opposing sides...</td>\n",
       "      <td>If pit measurement, no value</td>\n",
       "      <td>0.2</td>\n",
       "    </tr>\n",
       "    <tr>\n",
       "      <th>4</th>\n",
       "      <td>volume</td>\n",
       "      <td>cubic centimeters</td>\n",
       "      <td>Sample volume, from either sampler, or calcula...</td>\n",
       "      <td>NaN</td>\n",
       "      <td>5.0</td>\n",
       "    </tr>\n",
       "  </tbody>\n",
       "</table>\n",
       "</div>"
      ],
      "text/plain": [
       "                column              units  \\\n",
       "0        sample_weight              grams   \n",
       "1  sample_bottom_depth        centimeters   \n",
       "2      avg_core_length        centimeters   \n",
       "3        avg_core_diam        centimeters   \n",
       "4               volume  cubic centimeters   \n",
       "\n",
       "                                         description  \\\n",
       "0                              Weight of snow sample   \n",
       "1                        Bottom depth of snow sample   \n",
       "2      Average of 3 measurements, on 3 sides of core   \n",
       "3  Average of 4 measurements, on 4 opposing sides...   \n",
       "4  Sample volume, from either sampler, or calcula...   \n",
       "\n",
       "                           blank_description  uncertainty  \n",
       "0  Sample lost or not measurable; very rare.          5.0  \n",
       "1                                        NaN          1.0  \n",
       "2               If pit measurement, no value          0.5  \n",
       "3               If pit measurement, no value          0.2  \n",
       "4                                        NaN          5.0  "
      ]
     },
     "execution_count": 18,
     "metadata": {},
     "output_type": "execute_result"
    }
   ],
   "source": [
    "met_tab"
   ]
  },
  {
   "cell_type": "code",
   "execution_count": 19,
   "metadata": {
    "collapsed": false
   },
   "outputs": [],
   "source": [
    "#Loop through all rows in table; add metadata to appropriate nodes\n",
    "for rwnum in met_tab.index:\n",
    "    row=met_tab.iloc[rwnum:rwnum+1:]\n",
    "    metd.metadata.eainfo.detailed.add_child(attr_n)#add new attribute section to the metadata\n",
    "    #Add column title\n",
    "    if rwnum==0:\n",
    "        metd.metadata.eainfo.detailed.attr.attrlabl.text=row.iloc[0]['column']\n",
    "        metd.metadata.eainfo.detailed.attr.attrdef.text=row.iloc[0]['description']\n",
    "        metd.metadata.eainfo.detailed.attr.attrdomv.rdom.attrunit.text=row.iloc[0]['units']\n",
    "        metd.metadata.eainfo.detailed.attr.attrdefs.text='Producer Defined'\n",
    "    else:\n",
    "        metd.metadata.eainfo.detailed.attr[rwnum].attrlabl.text=row.iloc[0]['column']\n",
    "        metd.metadata.eainfo.detailed.attr[rwnum].attrdef.text=row.iloc[0]['description']\n",
    "        metd.metadata.eainfo.detailed.attr[rwnum].attrdomv.rdom.attrunit.text=row.iloc[0]['units']\n",
    "        metd.metadata.eainfo.detailed.attr[rwnum].attrdefs.text='Producer Defined'"
   ]
  },
  {
   "cell_type": "markdown",
   "metadata": {
    "collapsed": true
   },
   "source": [
    "# Add factor/ categorical columns"
   ]
  },
  {
   "cell_type": "code",
   "execution_count": 20,
   "metadata": {
    "collapsed": false
   },
   "outputs": [],
   "source": [
    "#import metadta on factor-type columns\n",
    "met_tab=pd.read_excel(met_tab_pth, sheetname='columns_factor')\n",
    "#import template for factor XML\n",
    "#Read in a blank node section for numeric attributes\n",
    "attr_factor=XMLNode(open(attr_factor_path, 'r').read()) #Must read in text file as string to convert to node\n",
    "factor_details=XMLNode(open(category_details_path, 'r').read())"
   ]
  },
  {
   "cell_type": "code",
   "execution_count": 21,
   "metadata": {
    "collapsed": false
   },
   "outputs": [
    {
     "data": {
      "text/html": [
       "<div>\n",
       "<table border=\"1\" class=\"dataframe\">\n",
       "  <thead>\n",
       "    <tr style=\"text-align: right;\">\n",
       "      <th></th>\n",
       "      <th>column</th>\n",
       "      <th>description</th>\n",
       "      <th>levels</th>\n",
       "      <th>blank_description</th>\n",
       "    </tr>\n",
       "  </thead>\n",
       "  <tbody>\n",
       "    <tr>\n",
       "      <th>0</th>\n",
       "      <td>sampler</td>\n",
       "      <td>Type of density sampler used</td>\n",
       "      <td>wedge, Felix, Kovacs, tube</td>\n",
       "      <td>NaN</td>\n",
       "    </tr>\n",
       "  </tbody>\n",
       "</table>\n",
       "</div>"
      ],
      "text/plain": [
       "    column                   description                      levels  \\\n",
       "0  sampler  Type of density sampler used  wedge, Felix, Kovacs, tube   \n",
       "\n",
       "   blank_description  \n",
       "0                NaN  "
      ]
     },
     "execution_count": 21,
     "metadata": {},
     "output_type": "execute_result"
    }
   ],
   "source": [
    "met_tab"
   ]
  },
  {
   "cell_type": "code",
   "execution_count": 22,
   "metadata": {
    "collapsed": false
   },
   "outputs": [
    {
     "name": "stdout",
     "output_type": "stream",
     "text": [
      "wedge\n",
      "Felix\n",
      "Kovacs\n",
      "tube\n"
     ]
    }
   ],
   "source": [
    "#Loop through all rows in categorical/factor table; add metadata to appropriate nodes\n",
    "for rwnum in met_tab.index:\n",
    "    row=met_tab.iloc[rwnum:rwnum+1:]\n",
    "    metd.metadata.eainfo.detailed.add_child(attr_factor)#add new attribute section to the metadata\n",
    "    #already have added numeric columns so can add as below with list indexing\n",
    "    metd.metadata.eainfo.detailed.attr[-1].attrlabl.text=row.iloc[0]['column']\n",
    "    metd.metadata.eainfo.detailed.attr[-1].attrdef.text=row.iloc[0]['description']\n",
    "    levels=row.iloc[0]['levels'].split(\",\")\n",
    "    count=-1\n",
    "    for xx in levels:\n",
    "        count=count+1\n",
    "        xx=xx.strip()\n",
    "        print(xx)\n",
    "        metd.metadata.eainfo.detailed.attr[-1].add_child(factor_details) #add details on factor section\n",
    "        if count==0 and rwnum==0:\n",
    "            metd.metadata.eainfo.detailed.attr[-1].attrdomv.edom.edomv.text=xx\n",
    "        else: \n",
    "            metd.metadata.eainfo.detailed.attr[-1].attrdomv[-1].edom.edomv.text=xx"
   ]
  },
  {
   "cell_type": "code",
   "execution_count": 23,
   "metadata": {
    "collapsed": false
   },
   "outputs": [],
   "source": [
    "#Add date metadata was created (today)\n",
    "today=datetime.datetime.today().strftime('%Y%m%d')\n",
    "metd.metadata.metainfo.metd.text=today"
   ]
  },
  {
   "cell_type": "markdown",
   "metadata": {},
   "source": [
    "# Done! \n",
    "## At least with the automated part here\n",
    "#### Now, open with metadata wizard, and perfect for distribution."
   ]
  },
  {
   "cell_type": "code",
   "execution_count": 24,
   "metadata": {
    "collapsed": false
   },
   "outputs": [
    {
     "data": {
      "text/plain": [
       "<metadata>\n",
       "  <idinfo>\n",
       "    <citation>\n",
       "      <citeinfo>\n",
       "        <origin>Emily H. Baker</origin>\n",
       "        <pubdate>\n",
       "\n",
       "        </pubdate>\n",
       "        <title>\n",
       "\n",
       "        </title>\n",
       "        <geoform>\n",
       "\n",
       "        </geoform>\n",
       "        <pubinfo>\n",
       "          <pubplace>Anchorage, AK</pubplace>\n",
       "          <publish>U.S. Geological Survey, Alaska Science Center</publish>\n",
       "        </pubinfo>\n",
       "        <onlink>https://doi.org/10.5066/xxxxxxxx</onlink>\n",
       "        <lworkcit>\n",
       "          <citeinfo>\n",
       "            <origin>\n",
       "\n",
       "            </origin>\n",
       "            <pubdate>\n",
       "\n",
       "            </pubdate>\n",
       "            <title>\n",
       "\n",
       "            </title>\n",
       "            <geoform>\n",
       "\n",
       "            </geoform>\n",
       "          </citeinfo>\n",
       "        </lworkcit>\n",
       "        <origin>Christopher J. McNeil</origin>\n",
       "        <origin>Louis C. Sass</origin>\n",
       "        <origin>Shad O'Neel</origin>\n",
       "      </citeinfo>\n",
       "    </citation>\n",
       "    <descript>\n",
       "      <abstract>Raw snow pit and snow core measurements of sample weight and volume, at specified depth from the surface</abstract>\n",
       "      <purpose>\n",
       "\n",
       "      </purpose>\n",
       "    </descript>\n",
       "    <timeperd>\n",
       "      <timeinfo>\n",
       "        <rngdates>\n",
       "          <begdate>\n",
       "\n",
       "          </begdate>\n",
       "          <enddate>\n",
       "\n",
       "          </enddate>\n",
       "        </rngdates>\n",
       "      </timeinfo>\n",
       "      <current>publication date</current>\n",
       "    </timeperd>\n",
       "    <status>\n",
       "      <progress>\n",
       "\n",
       "      </progress>\n",
       "      <update>\n",
       "\n",
       "      </update>\n",
       "    </status>\n",
       "    <spdom>\n",
       "      <bounding>\n",
       "        <westbc>\n",
       "\n",
       "        </westbc>\n",
       "        <eastbc>\n",
       "\n",
       "        </eastbc>\n",
       "        <northbc>\n",
       "\n",
       "        </northbc>\n",
       "        <southbc>\n",
       "\n",
       "        </southbc>\n",
       "      </bounding>\n",
       "    </spdom>\n",
       "    <keywords>\n",
       "      <theme>\n",
       "        <themekt>None</themekt>\n",
       "        <themekey>geophysics</themekey>\n",
       "        <themekey>Glaciology</themekey>\n",
       "      </theme>\n",
       "      <theme>\n",
       "        <themekt>NASA Earth Science Thesaurus</themekt>\n",
       "        <themekey>Cryosphere</themekey>\n",
       "        <themekey>Glaciers/Ice Sheets</themekey>\n",
       "        <themekey>Glaciers</themekey>\n",
       "        <themekey>Ablation Zones/Accumulation Zones</themekey>\n",
       "      </theme>\n",
       "      <theme>\n",
       "        <themekt>USGS CSA Biocomplexity Thesaurus</themekt>\n",
       "        <themekey>Glaciology</themekey>\n",
       "        <themekey>Geomorphology</themekey>\n",
       "        <themekey>Geology</themekey>\n",
       "        <themekey>Remote Sensing</themekey>\n",
       "      </theme>\n",
       "    </keywords>\n",
       "    <accconst>none</accconst>\n",
       "    <useconst>Please cite U.S. Geological Survey/listed authors and give credit for the data. When appropriate, please consider co-authorship with the owners of the database. These data are the result of efforts by many of government and non-government participants in the field, including USGS and various researchers and managers. All publications based on these data should acknowledge all of these efforts. If a publication is based solely on the analysis of this data, we suggest that you involve the authors of this data with the writing and/or review of the manuscript. We would also appreciate receiving a reprint or copy of any publications or reports that make use of the data.</useconst>\n",
       "    <ptcontac>\n",
       "      <cntinfo>\n",
       "        <cntorgp>\n",
       "          <cntorg>U.S. Geological Survey, Alaska Science Center</cntorg>\n",
       "        </cntorgp>\n",
       "        <cntaddr>\n",
       "          <addrtype>Mailing</addrtype>\n",
       "          <address>4210 University Dr.</address>\n",
       "          <city>Anchorage</city>\n",
       "          <state>AK</state>\n",
       "          <postal>99508-4626</postal>\n",
       "          <country>USA</country>\n",
       "        </cntaddr>\n",
       "        <cntvoice>(907) 786-7000</cntvoice>\n",
       "        <cntfax>(907) 786 - 7020</cntfax>\n",
       "        <cntemail>ascweb@usgs.gov</cntemail>\n",
       "      </cntinfo>\n",
       "    </ptcontac>\n",
       "    <datacred>University of Alaska Fairbanks, Alaska Division of Geological and Geophysical Surveys</datacred>\n",
       "  </idinfo>\n",
       "  <dataqual>\n",
       "    <attracc>\n",
       "      <attraccr>We did not conduct any formal attribute accuracy tests. The user must assess these attributes on a case-by-case basis.</attraccr>\n",
       "    </attracc>\n",
       "    <logic>\n",
       "\n",
       "    </logic>\n",
       "    <complete>Data set is considered complete for the information presented, as described in the abstract. We include all of the collected data even though some of the data may not be interpretable depending on intended use.</complete>\n",
       "    <posacc>\n",
       "\n",
       "    </posacc>\n",
       "    <lineage>\n",
       "      <procstep>\n",
       "        <procdesc>Samples are taken using a variety of samplers, as listed in the table. Sample weight and depth below surface are noted. Weight is measured using a sping scale, and small stuff sack for sample. Sample depth is taken with a tape measurer in pits, or measured along core, and in core hole.</procdesc>\n",
       "        <srcused>Ostream, G., and M. Brugman (1991), Glacier Mass-Balance Measurements: A Manual for Field and Office Work, Saskatoon, Saskatchewan.</srcused>\n",
       "        <procdate>\n",
       "\n",
       "        </procdate>\n",
       "        <srcprod>nan</srcprod>\n",
       "      </procstep>\n",
       "    </lineage>\n",
       "  </dataqual>\n",
       "  <spdoinfo>\n",
       "    <direct>\n",
       "\n",
       "    </direct>\n",
       "    <ptvctinf>\n",
       "      <sdtsterm>\n",
       "        <sdtstype>\n",
       "\n",
       "        </sdtstype>\n",
       "      </sdtsterm>\n",
       "    </ptvctinf>\n",
       "  </spdoinfo>\n",
       "  <spref>\n",
       "    <horizsys>\n",
       "      <geograph>\n",
       "        <latres>\n",
       "\n",
       "        </latres>\n",
       "        <longres>0</longres>\n",
       "        <geogunit>\n",
       "\n",
       "        </geogunit>\n",
       "      </geograph>\n",
       "    </horizsys>\n",
       "  </spref>\n",
       "  <eainfo>\n",
       "    <detailed>\n",
       "      <enttyp>\n",
       "        <enttypl>GlacierNameYYYY.MM.DD PitCore_SiteLabel.csv</enttypl>\n",
       "        <enttypd>table</enttypd>\n",
       "        <enttypds>Producer defined</enttypds>\n",
       "      </enttyp>\n",
       "      <attr>\n",
       "        <attrlabl>\n",
       "\n",
       "        </attrlabl>\n",
       "        <attrdef>\n",
       "\n",
       "        </attrdef>\n",
       "        <attrdefs>\n",
       "\n",
       "        </attrdefs>\n",
       "        <attrdomv>\n",
       "          <rdom>\n",
       "            <rdommin>\n",
       "\n",
       "            </rdommin>\n",
       "            <rdommax>\n",
       "\n",
       "            </rdommax>\n",
       "            <attrunit>\n",
       "\n",
       "            </attrunit>\n",
       "            <attrmres>\n",
       "\n",
       "            </attrmres>\n",
       "          </rdom>\n",
       "        </attrdomv>\n",
       "      </attr>\n",
       "      <attr>\n",
       "        <attrlabl>sample_weight</attrlabl>\n",
       "        <attrdef>Weight of snow sample</attrdef>\n",
       "        <attrdefs>Producer Defined</attrdefs>\n",
       "        <attrdomv>\n",
       "          <rdom>\n",
       "            <rdommin>\n",
       "\n",
       "            </rdommin>\n",
       "            <rdommax>\n",
       "\n",
       "            </rdommax>\n",
       "            <attrunit>grams</attrunit>\n",
       "            <attrmres>\n",
       "\n",
       "            </attrmres>\n",
       "          </rdom>\n",
       "        </attrdomv>\n",
       "      </attr>\n",
       "      <attr>\n",
       "        <attrlabl>sample_bottom_depth</attrlabl>\n",
       "        <attrdef>Bottom depth of snow sample</attrdef>\n",
       "        <attrdefs>Producer Defined</attrdefs>\n",
       "        <attrdomv>\n",
       "          <rdom>\n",
       "            <rdommin>\n",
       "\n",
       "            </rdommin>\n",
       "            <rdommax>\n",
       "\n",
       "            </rdommax>\n",
       "            <attrunit>centimeters</attrunit>\n",
       "            <attrmres>\n",
       "\n",
       "            </attrmres>\n",
       "          </rdom>\n",
       "        </attrdomv>\n",
       "      </attr>\n",
       "      <attr>\n",
       "        <attrlabl>avg_core_length</attrlabl>\n",
       "        <attrdef>Average of 3 measurements, on 3 sides of core</attrdef>\n",
       "        <attrdefs>Producer Defined</attrdefs>\n",
       "        <attrdomv>\n",
       "          <rdom>\n",
       "            <rdommin>\n",
       "\n",
       "            </rdommin>\n",
       "            <rdommax>\n",
       "\n",
       "            </rdommax>\n",
       "            <attrunit>centimeters</attrunit>\n",
       "            <attrmres>\n",
       "\n",
       "            </attrmres>\n",
       "          </rdom>\n",
       "        </attrdomv>\n",
       "      </attr>\n",
       "      <attr>\n",
       "        <attrlabl>avg_core_diam</attrlabl>\n",
       "        <attrdef>Average of 4 measurements, on 4 opposing sides of core</attrdef>\n",
       "        <attrdefs>Producer Defined</attrdefs>\n",
       "        <attrdomv>\n",
       "          <rdom>\n",
       "            <rdommin>\n",
       "\n",
       "            </rdommin>\n",
       "            <rdommax>\n",
       "\n",
       "            </rdommax>\n",
       "            <attrunit>centimeters</attrunit>\n",
       "            <attrmres>\n",
       "\n",
       "            </attrmres>\n",
       "          </rdom>\n",
       "        </attrdomv>\n",
       "      </attr>\n",
       "      <attr>\n",
       "        <attrlabl>\n",
       "\n",
       "        </attrlabl>\n",
       "        <attrdef>\n",
       "\n",
       "        </attrdef>\n",
       "        <attrdefs>User defined</attrdefs>\n",
       "      </attr>\n",
       "    </detailed>\n",
       "    <overview>\n",
       "      <eaover>\n",
       "\n",
       "      </eaover>\n",
       "      <eadetcit>\n",
       "\n",
       "      </eadetcit>\n",
       "    </overview>\n",
       "  </eainfo>\n",
       "  <distinfo>\n",
       "    <distrib>\n",
       "      <cntinfo>\n",
       "        <cntorgp>\n",
       "          <cntorg>U.S. Geological Survey, Alaska Science Center</cntorg>\n",
       "        </cntorgp>\n",
       "        <cntaddr>\n",
       "          <addrtype>Mailing and Physical</addrtype>\n",
       "          <address>4210 University Dr.</address>\n",
       "          <city>Anchorage</city>\n",
       "          <state>AK</state>\n",
       "          <postal>99508-4626</postal>\n",
       "          <country>USA</country>\n",
       "        </cntaddr>\n",
       "        <cntvoice>(907) 786-7000</cntvoice>\n",
       "        <cntemail>ascweb@usgs.gov</cntemail>\n",
       "      </cntinfo>\n",
       "    </distrib>\n",
       "    <distliab>Unless otherwise stated, all data, metadata and related materials are considered to satisfy the quality standards relative to the purpose for which the data were collected. Although these data and associated metadata have been reviewed for accuracy and completeness and approved for release by the U.S. Geological Survey (USGS), no warranty expressed or implied is made regarding the display or utility of the data on any other system or for general or scientific purposes, nor shall the act of distribution constitute any such warranty.</distliab>\n",
       "    <stdorder>\n",
       "      <digform>\n",
       "        <digtinfo>\n",
       "          <formname>Digital Data</formname>\n",
       "        </digtinfo>\n",
       "        <digtopt>\n",
       "          <onlinopt>\n",
       "            <computer>\n",
       "              <networka>\n",
       "                <networkr>\n",
       "\n",
       "                </networkr>\n",
       "              </networka>\n",
       "            </computer>\n",
       "          </onlinopt>\n",
       "        </digtopt>\n",
       "      </digform>\n",
       "      <fees>none</fees>\n",
       "    </stdorder>\n",
       "  </distinfo>\n",
       "  <metainfo>\n",
       "    <metd>20170619</metd>\n",
       "    <metc>\n",
       "      <cntinfo>\n",
       "        <cntorgp>\n",
       "          <cntorg>U.S. Geological Survey, Alaska Science Center</cntorg>\n",
       "        </cntorgp>\n",
       "        <cntaddr>\n",
       "          <addrtype>Mailing and Physical</addrtype>\n",
       "          <address>4210 University Dr.</address>\n",
       "          <city>Anchorage</city>\n",
       "          <state>Alaska</state>\n",
       "          <postal>99508-4626</postal>\n",
       "          <country>USA</country>\n",
       "        </cntaddr>\n",
       "        <cntvoice>(907) 786-7000</cntvoice>\n",
       "        <cntemail>ascweb@usgs.gov</cntemail>\n",
       "      </cntinfo>\n",
       "    </metc>\n",
       "    <metstdn>FGDC CSDGM</metstdn>\n",
       "    <metstdv>FGDC-STD-001-1998</metstdv>\n",
       "  </metainfo>\n",
       "</metadata>"
      ]
     },
     "execution_count": 24,
     "metadata": {},
     "output_type": "execute_result"
    }
   ],
   "source": [
    "out_path=r\"C:\\Users\\ehbaker\\Documents\\XML_Work\" #set the path for your output XML docs\n",
    "metd.save(fname=os.path.join(out_path,\"Improved_metadata.xml\"))\n",
    "metd.metadata"
   ]
  }
 ],
 "metadata": {
  "kernelspec": {
   "display_name": "Python 3",
   "language": "python",
   "name": "python3"
  },
  "language_info": {
   "codemirror_mode": {
    "name": "ipython",
    "version": 3
   },
   "file_extension": ".py",
   "mimetype": "text/x-python",
   "name": "python",
   "nbconvert_exporter": "python",
   "pygments_lexer": "ipython3",
   "version": "3.6.0"
  }
 },
 "nbformat": 4,
 "nbformat_minor": 2
}
